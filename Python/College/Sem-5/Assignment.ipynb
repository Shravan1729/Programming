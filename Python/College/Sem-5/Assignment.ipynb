{
 "cells": [
  {
   "cell_type": "code",
   "execution_count": 45,
   "metadata": {},
   "outputs": [],
   "source": [
    "import numpy as np\n",
    "import matplotlib.pyplot as plt"
   ]
  },
  {
   "cell_type": "markdown",
   "metadata": {},
   "source": [
    "#### Question 1: \n",
    "*Generate 1000 uniform random numbers between [0,1] using the python module random or numpy.random .Plot these random numbers with histograms with even bin size 0.2.*\n",
    " "
   ]
  },
  {
   "cell_type": "code",
   "execution_count": 46,
   "metadata": {},
   "outputs": [
    {
     "data": {
      "image/png": "[encoded data removed]",
      "text/plain": [
       "<Figure size 500x400 with 1 Axes>"
      ]
     },
     "metadata": {},
     "output_type": "display_data"
    }
   ],
   "source": [
    "N = 1000\n",
    "X = np.linspace(1,1000,N)\n",
    "Dist = np.zeros(N)\n",
    "\n",
    "for i in range(N):\n",
    "    Dist[i] = np.random.random()\n",
    "\n",
    "\n",
    "plt.figure(figsize=(5,4))\n",
    "bins = 50\n",
    "plt.xlabel(\"Range\")\n",
    "plt.ylabel(\"Distribution\")\n",
    "plt.title(\"Random Numbers\")\n",
    "plt.hist(Dist, int(bin))\n",
    "plt.show()"
   ]
  },
  {
   "cell_type": "markdown",
   "metadata": {},
   "source": [
    "#### Question 2: \n",
    "*Generate 1000 uniform random integers between [1, 1000] using the python module random or numpy.random . Plot these random numbers with histograms with even bin size 0.2.*\n",
    " "
   ]
  },
  {
   "cell_type": "code",
   "execution_count": 48,
   "metadata": {},
   "outputs": [
    {
     "data": {
      "image/png": "[encoded data removed]",
      "text/plain": [
       "<Figure size 500x400 with 1 Axes>"
      ]
     },
     "metadata": {},
     "output_type": "display_data"
    }
   ],
   "source": [
    "N = 1000\n",
    "X = np.linspace(1,1000,N)\n",
    "Dist = np.zeros(N)\n",
    "\n",
    "for i in range(N):\n",
    "    Dist[i] = np.random.randint(1,1000)\n",
    "\n",
    "\n",
    "plt.figure(figsize=(5,4))\n",
    "bins = 50\n",
    "plt.xlabel(\"Range\")\n",
    "plt.ylabel(\"Distribution\")\n",
    "plt.title(\"Random Integers\")\n",
    "plt.hist(Dist, int(bin))\n",
    "plt.show()"
   ]
  },
  {
   "cell_type": "markdown",
   "metadata": {},
   "source": [
    "#### Question 3: \n",
    "*Generate 1000 uniform random integers. Get the mean and median of these numbers*\n",
    " "
   ]
  },
  {
   "cell_type": "code",
   "execution_count": 61,
   "metadata": {},
   "outputs": [
    {
     "name": "stdout",
     "output_type": "stream",
     "text": [
      "Enter a integer value for N\n"
     ]
    },
    {
     "ename": "TypeError",
     "evalue": "float expected at most 1 argument, got 2",
     "output_type": "error",
     "traceback": [
      "\u001b[1;31m---------------------------------------------------------------------------\u001b[0m",
      "\u001b[1;31mTypeError\u001b[0m                                 Traceback (most recent call last)",
      "\u001b[1;32mc:\\Users\\shrav\\OneDrive\\Documents\\Programming\\Python\\College\\Sem-5\\Assignment.ipynb Cell 7\u001b[0m line \u001b[0;36m1\n\u001b[0;32m     <a href='vscode-notebook-cell:/c%3A/Users/shrav/OneDrive/Documents/Programming/Python/College/Sem-5/Assignment.ipynb#X12sZmlsZQ%3D%3D?line=9'>10</a>\u001b[0m lower_limit, upper_limit \u001b[39m=\u001b[39m \u001b[39minput\u001b[39m(\u001b[39m\"\u001b[39m\u001b[39mEnter the Lower limit and Upper limit of the Distribution: \u001b[39m\u001b[39m\"\u001b[39m)\n\u001b[0;32m     <a href='vscode-notebook-cell:/c%3A/Users/shrav/OneDrive/Documents/Programming/Python/College/Sem-5/Assignment.ipynb#X12sZmlsZQ%3D%3D?line=10'>11</a>\u001b[0m \u001b[39mtry\u001b[39;00m: \n\u001b[1;32m---> <a href='vscode-notebook-cell:/c%3A/Users/shrav/OneDrive/Documents/Programming/Python/College/Sem-5/Assignment.ipynb#X12sZmlsZQ%3D%3D?line=11'>12</a>\u001b[0m     lower_limit, upper_limit \u001b[39m=\u001b[39m \u001b[39mfloat\u001b[39;49m(lower_limit, upper_limit)\n\u001b[0;32m     <a href='vscode-notebook-cell:/c%3A/Users/shrav/OneDrive/Documents/Programming/Python/College/Sem-5/Assignment.ipynb#X12sZmlsZQ%3D%3D?line=12'>13</a>\u001b[0m     \u001b[39mbreak\u001b[39;00m\n\u001b[0;32m     <a href='vscode-notebook-cell:/c%3A/Users/shrav/OneDrive/Documents/Programming/Python/College/Sem-5/Assignment.ipynb#X12sZmlsZQ%3D%3D?line=13'>14</a>\u001b[0m \u001b[39mexcept\u001b[39;00m \u001b[39mValueError\u001b[39;00m:\n",
      "\u001b[1;31mTypeError\u001b[0m: float expected at most 1 argument, got 2"
     ]
    }
   ],
   "source": [
    "while True:\n",
    "    N = input(\"Enter the Number of Random Integers(N): \")\n",
    "    try: \n",
    "        N = float(N)\n",
    "        if N.is_integer():\n",
    "            pass\n",
    "    except ValueError:\n",
    "        print(\"Enter a integer value for N\")\n",
    "\n",
    "    lower_limit = float(input(\"Enter the Lower limit of the Distribution: \"))\n",
    "    upper_limit = float(input(\"Enter the Upper limit of the Distribution: \"))\n",
    "    try:\n",
    "        lower_limit = float(lower_limit)\n",
    "        upper_limit = float(upper_limit)\n",
    "        break\n",
    "    except ValueError:\n",
    "        print(\"Enter a integer/float value for N\")    \n",
    "\n",
    "\n",
    "\n",
    "\n",
    "X = np.linspace(lower_limit,upper_limit,N)\n",
    "Dist = np.zeros(N)\n",
    "\n",
    "for i in range(N):\n",
    "    Dist[i] = np.random.randint(1,100)\n",
    "\n",
    "\n",
    "def Mean_Median(X: list) ->list:\n",
    "    Mean = np.sum(X)/len(X)\n",
    "    \n",
    "    Sorted_X = np.sort(X)\n",
    "    if len(X)%2 != 1:\n",
    "        Median = Sorted_X[(len(X)//2)-1]\n",
    "    else:\n",
    "        Median = Sorted_X[(len(X)/2)]    \n",
    "\n",
    "    return [Mean, Median]\n",
    "\n",
    "mean, median = Mean_Median(Dist)\n",
    "print(\"The Mean of the Integers is: \",mean)\n",
    "print(\"The Median of the Integers is: \",median)\n"
   ]
  },
  {
   "cell_type": "markdown",
   "metadata": {},
   "source": []
  }
 ],
 "metadata": {
  "kernelspec": {
   "display_name": "Python 3",
   "language": "python",
   "name": "python3"
  },
  "language_info": {
   "codemirror_mode": {
    "name": "ipython",
    "version": 3
   },
   "file_extension": ".py",
   "mimetype": "text/x-python",
   "name": "python",
   "nbconvert_exporter": "python",
   "pygments_lexer": "ipython3",
   "version": "3.11.4"
  }
 },
 "nbformat": 4,
 "nbformat_minor": 2
}
